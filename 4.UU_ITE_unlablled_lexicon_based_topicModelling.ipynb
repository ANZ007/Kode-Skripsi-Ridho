{
 "cells": [
  {
   "cell_type": "code",
   "execution_count": 1,
   "metadata": {
    "id": "MS10HciSuKmD"
   },
   "outputs": [],
   "source": [
    "import pandas as pd"
   ]
  },
  {
   "cell_type": "code",
   "execution_count": 2,
   "metadata": {
    "id": "WE2OylqYu3ym"
   },
   "outputs": [],
   "source": [
    "# https://www.youtube.com/watch?v=tUh0mgB0QuA\n",
    "from nltk.tokenize import word_tokenize\n",
    "from nltk.corpus import stopwords\n",
    "from string import punctuation\n",
    "from nltk.tokenize.treebank import TreebankWordDetokenizer"
   ]
  },
  {
   "cell_type": "code",
   "execution_count": 3,
   "metadata": {
    "colab": {
     "base_uri": "https://localhost:8080/"
    },
    "id": "s-lwBsWowZ1U",
    "outputId": "c1780968-e02e-49dd-a4c5-08fe69d7a6d8"
   },
   "outputs": [],
   "source": [
    "#import nltk\n",
    "#nltk.download('stopwords')"
   ]
  },
  {
   "cell_type": "code",
   "execution_count": null,
   "metadata": {
    "id": "Rq-Qn1BOv2Fr"
   },
   "outputs": [],
   "source": []
  },
  {
   "cell_type": "code",
   "execution_count": 4,
   "metadata": {
    "id": "T4hvJ7LWw1nI"
   },
   "outputs": [],
   "source": [
    "df = pd.read_csv(\"uuite_lexicon_nltk_sastrawi.csv\")"
   ]
  },
  {
   "cell_type": "code",
   "execution_count": 5,
   "metadata": {},
   "outputs": [],
   "source": [
    "temp_detokenize = []\n",
    "\n",
    "def detokenize(text):\n",
    "    text1 = text.replace(']','').replace('[','')\n",
    "    arr = text1.replace('\"','').replace(\"\\'\",\"\").split(\",\")\n",
    "    return(TreebankWordDetokenizer().detokenize(arr))\n",
    "\n",
    "df['tweet'] = df['tweet'].astype('U').apply(detokenize)"
   ]
  },
  {
   "cell_type": "code",
   "execution_count": 6,
   "metadata": {
    "colab": {
     "base_uri": "https://localhost:8080/",
     "height": 423
    },
    "id": "dxEWQIdexB-P",
    "outputId": "040cdd7e-6530-49fe-8505-1317e795a4a4"
   },
   "outputs": [
    {
     "data": {
      "text/html": [
       "<div>\n",
       "<style scoped>\n",
       "    .dataframe tbody tr th:only-of-type {\n",
       "        vertical-align: middle;\n",
       "    }\n",
       "\n",
       "    .dataframe tbody tr th {\n",
       "        vertical-align: top;\n",
       "    }\n",
       "\n",
       "    .dataframe thead th {\n",
       "        text-align: right;\n",
       "    }\n",
       "</style>\n",
       "<table border=\"1\" class=\"dataframe\">\n",
       "  <thead>\n",
       "    <tr style=\"text-align: right;\">\n",
       "      <th></th>\n",
       "      <th>tweet</th>\n",
       "      <th>sentimen</th>\n",
       "    </tr>\n",
       "  </thead>\n",
       "  <tbody>\n",
       "    <tr>\n",
       "      <th>0</th>\n",
       "      <td>indonesia  menyelamatkan  abu  janda  terjerah...</td>\n",
       "      <td>Negatif</td>\n",
       "    </tr>\n",
       "    <tr>\n",
       "      <th>1</th>\n",
       "      <td>makassar  terkini  jokowi  revisi  uu  ite  ro...</td>\n",
       "      <td>Negatif</td>\n",
       "    </tr>\n",
       "    <tr>\n",
       "      <th>2</th>\n",
       "      <td>uu  ite  zaman  pra  sejarah  orang  pintar  h...</td>\n",
       "      <td>Positif</td>\n",
       "    </tr>\n",
       "    <tr>\n",
       "      <th>3</th>\n",
       "      <td>uu  ite  pasal pasal  karet  dicabut  pasal  a...</td>\n",
       "      <td>Negatif</td>\n",
       "    </tr>\n",
       "    <tr>\n",
       "      <th>4</th>\n",
       "      <td>revisi  uu  ite  modus  khawatir  revisi  buzz...</td>\n",
       "      <td>Negatif</td>\n",
       "    </tr>\n",
       "    <tr>\n",
       "      <th>...</th>\n",
       "      <td>...</td>\n",
       "      <td>...</td>\n",
       "    </tr>\n",
       "    <tr>\n",
       "      <th>10036</th>\n",
       "      <td>didu  jk  dinsyamsuddin  bedakan  kritikhoaxny...</td>\n",
       "      <td>Positif</td>\n",
       "    </tr>\n",
       "    <tr>\n",
       "      <th>10037</th>\n",
       "      <td>jepang  orang  terlukakalo  indonesia  ngak  b...</td>\n",
       "      <td>Negatif</td>\n",
       "    </tr>\n",
       "    <tr>\n",
       "      <th>10038</th>\n",
       "      <td>wkwk  ntaps  ditegasin  males  giliran  gini  ...</td>\n",
       "      <td>Positif</td>\n",
       "    </tr>\n",
       "    <tr>\n",
       "      <th>10039</th>\n",
       "      <td>demokrat  jokowi  dikritik  uu  ite  revisi</td>\n",
       "      <td>Negatif</td>\n",
       "    </tr>\n",
       "    <tr>\n",
       "      <th>10040</th>\n",
       "      <td>andalan  rejim  uu  ite  buzzer  cebong  ahoke...</td>\n",
       "      <td>Negatif</td>\n",
       "    </tr>\n",
       "  </tbody>\n",
       "</table>\n",
       "<p>10041 rows × 2 columns</p>\n",
       "</div>"
      ],
      "text/plain": [
       "                                                   tweet sentimen\n",
       "0      indonesia  menyelamatkan  abu  janda  terjerah...  Negatif\n",
       "1      makassar  terkini  jokowi  revisi  uu  ite  ro...  Negatif\n",
       "2      uu  ite  zaman  pra  sejarah  orang  pintar  h...  Positif\n",
       "3      uu  ite  pasal pasal  karet  dicabut  pasal  a...  Negatif\n",
       "4      revisi  uu  ite  modus  khawatir  revisi  buzz...  Negatif\n",
       "...                                                  ...      ...\n",
       "10036  didu  jk  dinsyamsuddin  bedakan  kritikhoaxny...  Positif\n",
       "10037  jepang  orang  terlukakalo  indonesia  ngak  b...  Negatif\n",
       "10038  wkwk  ntaps  ditegasin  males  giliran  gini  ...  Positif\n",
       "10039        demokrat  jokowi  dikritik  uu  ite  revisi  Negatif\n",
       "10040  andalan  rejim  uu  ite  buzzer  cebong  ahoke...  Negatif\n",
       "\n",
       "[10041 rows x 2 columns]"
      ]
     },
     "execution_count": 6,
     "metadata": {},
     "output_type": "execute_result"
    }
   ],
   "source": [
    "df"
   ]
  },
  {
   "cell_type": "code",
   "execution_count": 7,
   "metadata": {
    "id": "75ORpAvKxHld"
   },
   "outputs": [],
   "source": [
    "from sklearn.feature_extraction.text import TfidfVectorizer\n",
    "from sklearn.feature_extraction.text import CountVectorizer\n"
   ]
  },
  {
   "cell_type": "code",
   "execution_count": 8,
   "metadata": {},
   "outputs": [
    {
     "data": {
      "text/plain": [
       "<10041x17417 sparse matrix of type '<class 'numpy.float64'>'\n",
       "\twith 118433 stored elements in Compressed Sparse Row format>"
      ]
     },
     "execution_count": 8,
     "metadata": {},
     "output_type": "execute_result"
    }
   ],
   "source": [
    "vectorizer = TfidfVectorizer(tokenizer=word_tokenize)\n",
    "response = vectorizer.fit_transform(df.tweet)\n",
    "response"
   ]
  },
  {
   "cell_type": "code",
   "execution_count": 9,
   "metadata": {},
   "outputs": [],
   "source": [
    "#print(response)"
   ]
  },
  {
   "cell_type": "code",
   "execution_count": 10,
   "metadata": {},
   "outputs": [
    {
     "name": "stderr",
     "output_type": "stream",
     "text": [
      "C:\\Users\\User\\.conda\\envs\\datamining\\lib\\site-packages\\sklearn\\utils\\deprecation.py:87: FutureWarning: Function get_feature_names is deprecated; get_feature_names is deprecated in 1.0 and will be removed in 1.2. Please use get_feature_names_out instead.\n",
      "  warnings.warn(msg, category=FutureWarning)\n"
     ]
    }
   ],
   "source": [
    "vocab = vectorizer.get_feature_names()"
   ]
  },
  {
   "cell_type": "code",
   "execution_count": 11,
   "metadata": {
    "colab": {
     "base_uri": "https://localhost:8080/"
    },
    "id": "G8eMbxnFylCU",
    "outputId": "3038f472-fbf2-4376-817e-043bd7f4e025"
   },
   "outputs": [
    {
     "name": "stderr",
     "output_type": "stream",
     "text": [
      "[nltk_data] Downloading package punkt to\n",
      "[nltk_data]     C:\\Users\\User\\AppData\\Roaming\\nltk_data...\n",
      "[nltk_data]   Package punkt is already up-to-date!\n"
     ]
    },
    {
     "data": {
      "text/plain": [
       "True"
      ]
     },
     "execution_count": 11,
     "metadata": {},
     "output_type": "execute_result"
    }
   ],
   "source": [
    "import nltk\n",
    "nltk.download('punkt')"
   ]
  },
  {
   "cell_type": "code",
   "execution_count": 12,
   "metadata": {
    "colab": {
     "base_uri": "https://localhost:8080/"
    },
    "id": "_oVm2tSLz8ZE",
    "outputId": "ca652528-8d31-4853-aee9-b66c7a8241f6"
   },
   "outputs": [
    {
     "data": {
      "text/plain": [
       "17417"
      ]
     },
     "execution_count": 12,
     "metadata": {},
     "output_type": "execute_result"
    }
   ],
   "source": [
    "len(vocab)"
   ]
  },
  {
   "cell_type": "markdown",
   "metadata": {
    "id": "5E20ZXy53eBS"
   },
   "source": [
    "## Latent Dirichlet Allocation (LDA)\n"
   ]
  },
  {
   "cell_type": "code",
   "execution_count": 13,
   "metadata": {
    "id": "hlDO8Fyv3o18"
   },
   "outputs": [],
   "source": [
    "from sklearn.decomposition import LatentDirichletAllocation"
   ]
  },
  {
   "cell_type": "code",
   "execution_count": 14,
   "metadata": {
    "id": "6awWGToD1mkI"
   },
   "outputs": [],
   "source": [
    "def get_topic(model):\n",
    "  return [[vocab[idx] for idx in reversed(comp.argsort()[-5:]) if vocab[idx].isalnum()]\n",
    "          for comp in model.components_]"
   ]
  },
  {
   "cell_type": "code",
   "execution_count": 15,
   "metadata": {},
   "outputs": [],
   "source": [
    "lda2 = LatentDirichletAllocation(n_components=3, max_iter = 50, random_state=42)\n",
    "lda_matrix = lda2.fit_transform(response)"
   ]
  },
  {
   "cell_type": "code",
   "execution_count": 16,
   "metadata": {},
   "outputs": [
    {
     "data": {
      "text/plain": [
       "[['uu', 'ite', 'revisi', 'orang', 'kritik'],\n",
       " ['lindungirezim', 'tertawa', 'dilaporin', 'ite', 'uu'],\n",
       " ['uu', 'revisi', 'ite', 'pasal', 'jokowi']]"
      ]
     },
     "execution_count": 16,
     "metadata": {},
     "output_type": "execute_result"
    }
   ],
   "source": [
    "get_topic(lda2)"
   ]
  },
  {
   "cell_type": "code",
   "execution_count": 17,
   "metadata": {},
   "outputs": [
    {
     "name": "stderr",
     "output_type": "stream",
     "text": [
      "C:\\Users\\User\\.conda\\envs\\datamining\\lib\\site-packages\\sklearn\\utils\\deprecation.py:87: FutureWarning: Function get_feature_names is deprecated; get_feature_names is deprecated in 1.0 and will be removed in 1.2. Please use get_feature_names_out instead.\n",
      "  warnings.warn(msg, category=FutureWarning)\n",
      "C:\\Users\\User\\.conda\\envs\\datamining\\lib\\site-packages\\pyLDAvis\\_prepare.py:246: FutureWarning: In a future version of pandas all arguments of DataFrame.drop except for the argument 'labels' will be keyword-only\n",
      "  default_term_info = default_term_info.sort_values(\n"
     ]
    },
    {
     "data": {
      "text/html": [
       "\n",
       "<link rel=\"stylesheet\" type=\"text/css\" href=\"https://cdn.jsdelivr.net/gh/bmabey/pyLDAvis@3.3.1/pyLDAvis/js/ldavis.v1.0.0.css\">\n",
       "\n",
       "\n",
       "<div id=\"ldavis_el1516819799351508168658861683\"></div>\n",
       "<script type=\"text/javascript\">\n",
       "\n",
       "var ldavis_el1516819799351508168658861683_data = {\"mdsDat\": {\"x\": [0.09222614090339326, 0.017516216221769288, -0.10974235712516253], \"y\": [0.06633126775601816, -0.10527248709987173, 0.0389412193438536], \"topics\": [1, 2, 3], \"cluster\": [1, 1, 1], \"Freq\": [50.23743848697645, 35.717966715480244, 14.044594797543308]}, \"tinfo\": {\"Term\": [\"revisi\", \"dpr\", \"keadilan\", \"presiden\", \"pasal\", \"lindungirezim\", \"jokowi\", \"karet\", \"korban\", \"orang\", \"uu\", \"ite\", \"sby\", \"wacana\", \"dukung\", \"masyarakat\", \"takut\", \"isu\", \"multitafsir\", \"pedoman\", \"bohong\", \"hapus\", \"interpretasi\", \"tertawa\", \"dilaporin\", \"sigit\", \"era\", \"rencana\", \"listyo\", \"benci\", \"korban\", \"sby\", \"isu\", \"bohong\", \"sigit\", \"listyo\", \"era\", \"benci\", \"sehat\", \"nama\", \"kriminalisasi\", \"ujaran\", \"terapkan\", \"jaman\", \"fitnah\", \"alat\", \"bebaskan\", \"hapus\", \"pencemaran\", \"skrg\", \"pelapor\", \"dan\", \"kuhp\", \"penghinaan\", \"dr\", \"delik\", \"berkuasa\", \"pergi\", \"lawan\", \"dilaporkan\", \"oposisi\", \"orang\", \"jk\", \"aman\", \"rezim\", \"selektif\", \"pakai\", \"kapolri\", \"kritik\", \"polisi\", \"buzzer\", \"uu\", \"ite\", \"bikin\", \"iya\", \"sdh\", \"revisi\", \"indonesia\", \"rakyat\", \"kena\", \"pasal\", \"pemerintah\", \"hukum\", \"jokowi\", \"polri\", \"karet\", \"dpr\", \"keadilan\", \"wacana\", \"dukung\", \"multitafsir\", \"pedoman\", \"interpretasi\", \"rencana\", \"joko\", \"widodo\", \"mahfud\", \"hatihati\", \"penegakan\", \"bersamasama\", \"resmi\", \"anggota\", \"gerung\", \"rocky\", \"usulan\", \"menkominfo\", \"md\", \"menjamin\", \"pengawasan\", \"no\", \"menghapus\", \"menjadikan\", \"konsisten\", \"wakil\", \"meningkatkan\", \"fraksi\", \"buka\", \"presiden\", \"komen\", \"revisi\", \"pasal\", \"lindungirezim\", \"jokowi\", \"karet\", \"masyarakat\", \"takut\", \"uu\", \"ite\", \"kena\", \"pemerintah\", \"ri\", \"implementasi\", \"setuju\", \"hukum\", \"salah\", \"abu\", \"informasi\", \"iya\", \"janda\", \"kritik\", \"polri\", \"tertawa\", \"min\", \"baik\", \"lebih\", \"dilaporin\", \"kejaksaan\", \"foto\", \"tiati\", \"untung\", \"anel\", \"diretas\", \"cs\", \"hacker\", \"database\", \"target\", \"agustus\", \"nur\", \"miliar\", \"bebasin\", \"musuh\", \"hidayat\", \"kang\", \"comment\", \"ngopi\", \"harun\", \"buzzernya\", \"akademisi\", \"mina\", \"duit\", \"bakar\", \"mbah\", \"penafsiran\", \"refly\", \"konflik\", \"bayar\", \"lindungirezim\", \"senjata\", \"ite\", \"uu\", \"kena\"], \"Freq\": [270.0, 76.0, 70.0, 109.0, 181.0, 87.0, 135.0, 110.0, 64.0, 81.0, 427.0, 404.0, 43.0, 27.0, 27.0, 53.0, 53.0, 38.0, 23.0, 22.0, 35.0, 37.0, 21.0, 9.0, 10.0, 31.0, 31.0, 19.0, 30.0, 30.0, 63.68762987878272, 43.269424914431326, 38.084048873254446, 35.35287477350476, 30.906318536874927, 30.400019624188293, 31.05663330739533, 30.080869091062507, 28.344409106739448, 29.09349536119873, 27.39187365905693, 24.00298382230593, 24.44489415450127, 23.794143030166754, 23.010635734498862, 23.196040589535038, 21.38744673212247, 36.616516015193625, 19.994088001831297, 19.180139300204164, 18.57643524802482, 17.645786210321273, 21.268518523639184, 17.5208005260875, 21.935772363226317, 16.360516244060943, 16.568333653447606, 17.8237553018771, 17.051513142332507, 16.913520908498803, 26.82137866712545, 77.31336298469482, 19.962952568268697, 24.620155298615092, 28.355100384114632, 47.44168420874387, 45.025689197276144, 68.83724431160104, 73.83894002897074, 31.78442012853982, 45.68209801224811, 229.35787028053971, 216.60785946356938, 30.335492086287815, 60.17464135991041, 28.919205069059462, 83.23784350010197, 35.770734916152946, 30.75306347582848, 44.695541252641036, 56.264567227392845, 38.45642009235485, 34.512899366776495, 39.17233222156606, 30.755400955885673, 33.08882615792024, 75.90969820606524, 70.24431017186609, 27.21307505018219, 27.119022060853617, 23.256761774251324, 22.375343375264272, 20.723538739691758, 19.20252199928047, 16.535373133162256, 16.09671559350896, 15.926334608063115, 16.077237331145653, 15.694680718915508, 13.88345098777454, 13.633474186405584, 14.138756043723946, 12.674907701561391, 12.967318252100226, 12.23580337874719, 11.887263078691408, 11.257786141989333, 10.805060178012884, 10.445027810066916, 13.506917811642664, 10.406824962548892, 10.254342594739246, 10.224939223329436, 10.686989576208653, 9.885665439450333, 10.461726610519607, 10.504368780442174, 93.58971519514529, 12.930586373829723, 186.91898544215198, 124.74010915618217, 65.41566498413907, 96.03237268916439, 77.631487219194, 39.97977102128901, 39.618442094792925, 191.44655744642762, 181.3785628738389, 51.07284898321119, 41.84018864337172, 24.433170041050374, 18.794378119146042, 23.495739013425812, 33.02318631778666, 27.86961988147097, 24.557244727804054, 20.23774687559022, 30.40126743610528, 19.23050518026162, 22.26725564980275, 18.897256350540953, 9.455162777416241, 5.815938309727833, 5.65014124292425, 5.65014124292425, 9.236239129388995, 5.217543744489039, 5.982051499838305, 3.637663574249241, 3.8161820076531585, 3.524011004216018, 3.292347732631103, 3.7424253666163803, 3.2059482637811367, 3.116747005041955, 3.523381275339705, 3.4786933540755665, 3.020787792768734, 3.088003420531297, 3.2300728013982747, 2.9889209395804675, 2.8922234378479312, 3.1074704981162546, 2.6850271009835986, 2.779090436087274, 2.5622817305505765, 2.9407086023126876, 3.101916449730115, 2.3136787695201315, 3.0069604423011427, 2.256333868045159, 2.4195262983347257, 4.821979148303599, 3.2901470496574294, 3.49879227660461, 4.628123304791307, 21.725687550622652, 3.7954936224431255, 6.615908380156424, 6.51652240230774, 4.51799420339163], \"Total\": [270.0, 76.0, 70.0, 109.0, 181.0, 87.0, 135.0, 110.0, 64.0, 81.0, 427.0, 404.0, 43.0, 27.0, 27.0, 53.0, 53.0, 38.0, 23.0, 22.0, 35.0, 37.0, 21.0, 9.0, 10.0, 31.0, 31.0, 19.0, 30.0, 30.0, 64.110545431464, 43.668369584723536, 38.512094198868, 35.7734402303407, 31.297182652898574, 30.794584959542213, 31.469719857610706, 30.48352934113022, 28.745580853023768, 29.533300013192235, 27.80969412743921, 24.405380481688873, 24.85485833101888, 24.19414654001425, 23.412573951683374, 23.618633247442755, 21.7966736650674, 37.31795665940614, 20.397966742461772, 19.585726604325313, 18.97287393871718, 18.05045980552719, 21.7593330150856, 17.930394922672857, 22.466946319788818, 16.756759745044288, 16.971772468734628, 18.259088686212852, 17.46939766319081, 17.332541494064824, 27.582880187187406, 81.53992643276267, 20.533105041591984, 25.78268133686053, 30.288944561787332, 54.060720615813636, 51.15545612913794, 87.09198613284987, 96.29525172354032, 36.086325284391954, 56.341110636794795, 427.32095012927505, 404.6023307175647, 34.94718013779785, 92.05204230946053, 33.02527721874506, 270.35384322587316, 54.73831766896933, 41.827455338849, 100.28638443924385, 181.1867309103631, 80.47778652574291, 67.71764299673819, 135.38997616475115, 49.83491895692189, 110.90154204876106, 76.37834099583604, 70.6999906524103, 27.67878300463601, 27.58924708754494, 23.688812240029726, 22.805712723713775, 21.13380603851392, 19.64207139458084, 16.94844465388319, 16.513581491492864, 16.350214197659252, 16.505821331304418, 16.147353382980288, 14.287044849477875, 14.046044479369874, 14.57908305370065, 13.10272515206985, 13.408610063157619, 12.670611226465901, 12.320653557749369, 11.67175950069257, 11.210153042446274, 10.851404599399167, 14.034757172217118, 10.828028892483394, 10.670192128832014, 10.639597407586757, 11.123374056351508, 10.290431885353582, 10.891324784822517, 10.939506870694801, 109.86922743197199, 13.689502953190487, 270.35384322587316, 181.1867309103631, 87.40187645368917, 135.38997616475115, 110.90154204876106, 53.859478167104115, 53.679267590483256, 427.32095012927505, 404.6023307175647, 100.28638443924385, 80.47778652574291, 37.788177019133684, 24.775194523799776, 36.5433015704778, 67.71764299673819, 51.22137932728771, 42.4599028067077, 29.250497898452114, 92.05204230946053, 36.41427106816413, 96.29525172354032, 49.83491895692189, 9.945890431321669, 6.307840334971495, 6.14801122293472, 6.14801122293472, 10.079093845779655, 5.696842110611, 6.556117821508801, 4.090157017796173, 4.299677751909371, 3.9774623439522614, 3.7317276358009055, 4.248917146287091, 3.652974245730598, 3.5560290636029377, 4.023775639314478, 3.9765219113259542, 3.477315057173877, 3.5573188349208813, 3.731648331511672, 3.4626874779878754, 3.355302604493136, 3.6186005246281914, 3.1407075010408865, 3.2582183765125894, 3.015410820857067, 3.470165008448947, 3.6658830034054692, 2.754977755054205, 3.583030839262758, 2.7112962825390907, 2.908847006862342, 5.962055368489298, 4.043841257861015, 4.329044055444548, 7.126630258861397, 87.40187645368917, 14.884553049128572, 404.6023307175647, 427.32095012927505, 100.28638443924385], \"Category\": [\"Default\", \"Default\", \"Default\", \"Default\", \"Default\", \"Default\", \"Default\", \"Default\", \"Default\", \"Default\", \"Default\", \"Default\", \"Default\", \"Default\", \"Default\", \"Default\", \"Default\", \"Default\", \"Default\", \"Default\", \"Default\", \"Default\", \"Default\", \"Default\", \"Default\", \"Default\", \"Default\", \"Default\", \"Default\", \"Default\", \"Topic1\", \"Topic1\", \"Topic1\", \"Topic1\", \"Topic1\", \"Topic1\", \"Topic1\", \"Topic1\", \"Topic1\", \"Topic1\", \"Topic1\", \"Topic1\", \"Topic1\", \"Topic1\", \"Topic1\", \"Topic1\", \"Topic1\", \"Topic1\", \"Topic1\", \"Topic1\", \"Topic1\", \"Topic1\", \"Topic1\", \"Topic1\", \"Topic1\", \"Topic1\", \"Topic1\", \"Topic1\", \"Topic1\", \"Topic1\", \"Topic1\", \"Topic1\", \"Topic1\", \"Topic1\", \"Topic1\", \"Topic1\", \"Topic1\", \"Topic1\", \"Topic1\", \"Topic1\", \"Topic1\", \"Topic1\", \"Topic1\", \"Topic1\", \"Topic1\", \"Topic1\", \"Topic1\", \"Topic1\", \"Topic1\", \"Topic1\", \"Topic1\", \"Topic1\", \"Topic1\", \"Topic1\", \"Topic1\", \"Topic1\", \"Topic2\", \"Topic2\", \"Topic2\", \"Topic2\", \"Topic2\", \"Topic2\", \"Topic2\", \"Topic2\", \"Topic2\", \"Topic2\", \"Topic2\", \"Topic2\", \"Topic2\", \"Topic2\", \"Topic2\", \"Topic2\", \"Topic2\", \"Topic2\", \"Topic2\", \"Topic2\", \"Topic2\", \"Topic2\", \"Topic2\", \"Topic2\", \"Topic2\", \"Topic2\", \"Topic2\", \"Topic2\", \"Topic2\", \"Topic2\", \"Topic2\", \"Topic2\", \"Topic2\", \"Topic2\", \"Topic2\", \"Topic2\", \"Topic2\", \"Topic2\", \"Topic2\", \"Topic2\", \"Topic2\", \"Topic2\", \"Topic2\", \"Topic2\", \"Topic2\", \"Topic2\", \"Topic2\", \"Topic2\", \"Topic2\", \"Topic2\", \"Topic2\", \"Topic2\", \"Topic2\", \"Topic2\", \"Topic2\", \"Topic3\", \"Topic3\", \"Topic3\", \"Topic3\", \"Topic3\", \"Topic3\", \"Topic3\", \"Topic3\", \"Topic3\", \"Topic3\", \"Topic3\", \"Topic3\", \"Topic3\", \"Topic3\", \"Topic3\", \"Topic3\", \"Topic3\", \"Topic3\", \"Topic3\", \"Topic3\", \"Topic3\", \"Topic3\", \"Topic3\", \"Topic3\", \"Topic3\", \"Topic3\", \"Topic3\", \"Topic3\", \"Topic3\", \"Topic3\", \"Topic3\", \"Topic3\", \"Topic3\", \"Topic3\", \"Topic3\", \"Topic3\", \"Topic3\", \"Topic3\", \"Topic3\", \"Topic3\"], \"logprob\": [30.0, 29.0, 28.0, 27.0, 26.0, 25.0, 24.0, 23.0, 22.0, 21.0, 20.0, 19.0, 18.0, 17.0, 16.0, 15.0, 14.0, 13.0, 12.0, 11.0, 10.0, 9.0, 8.0, 7.0, 6.0, 5.0, 4.0, 3.0, 2.0, 1.0, -5.4659, -5.8524, -5.9801, -6.0545, -6.1889, -6.2054, -6.1841, -6.216, -6.2755, -6.2494, -6.3096, -6.4417, -6.4235, -6.4504, -6.4839, -6.4759, -6.5571, -6.0194, -6.6244, -6.666, -6.698, -6.7494, -6.5627, -6.7565, -6.5318, -6.825, -6.8124, -6.7393, -6.7836, -6.7918, -6.3307, -5.272, -6.626, -6.4163, -6.2751, -5.7604, -5.8126, -5.3881, -5.318, -6.1609, -5.7982, -4.1846, -4.2418, -6.2076, -5.5226, -6.2554, -5.1982, -6.0428, -6.1939, -5.82, -5.5898, -5.9704, -6.0785, -5.9519, -6.1938, -6.1207, -4.9492, -5.0268, -5.9751, -5.9785, -6.1322, -6.1708, -6.2475, -6.3237, -6.4733, -6.5002, -6.5108, -6.5014, -6.5255, -6.6481, -6.6662, -6.6299, -6.7392, -6.7163, -6.7744, -6.8033, -6.8577, -6.8988, -6.9326, -6.6756, -6.9363, -6.9511, -6.9539, -6.9097, -6.9877, -6.9311, -6.927, -4.7399, -6.7192, -4.0481, -4.4525, -5.098, -4.7141, -4.9268, -5.5904, -5.5995, -4.0242, -4.0782, -5.3455, -5.5449, -6.0828, -6.3452, -6.122, -5.7816, -5.9512, -6.0778, -6.2712, -5.8643, -6.3223, -6.1757, -6.3398, -6.0988, -6.5848, -6.6137, -6.6137, -6.1222, -6.6933, -6.5566, -7.054, -7.0061, -7.0858, -7.1538, -7.0256, -7.1804, -7.2086, -7.0859, -7.0987, -7.2398, -7.2178, -7.1729, -7.2504, -7.2833, -7.2115, -7.3577, -7.3232, -7.4045, -7.2667, -7.2133, -7.5065, -7.2444, -7.5316, -7.4618, -6.7722, -7.1544, -7.0929, -6.8132, -5.2669, -7.0115, -6.4559, -6.471, -6.8373], \"loglift\": [30.0, 29.0, 28.0, 27.0, 26.0, 25.0, 24.0, 23.0, 22.0, 21.0, 20.0, 19.0, 18.0, 17.0, 16.0, 15.0, 14.0, 13.0, 12.0, 11.0, 10.0, 9.0, 8.0, 7.0, 6.0, 5.0, 4.0, 3.0, 2.0, 1.0, 0.6818, 0.6792, 0.6772, 0.6766, 0.6758, 0.6755, 0.6752, 0.6751, 0.6744, 0.6734, 0.6733, 0.6718, 0.6718, 0.6717, 0.6711, 0.6704, 0.6695, 0.6694, 0.6684, 0.6675, 0.6673, 0.6657, 0.6656, 0.6653, 0.6645, 0.6645, 0.6644, 0.6643, 0.6642, 0.6639, 0.6604, 0.6352, 0.6602, 0.6423, 0.6224, 0.5578, 0.5608, 0.4532, 0.4229, 0.5615, 0.4787, 0.0662, 0.0636, 0.5469, 0.2633, 0.5556, -0.4896, 0.263, 0.3808, -0.1197, -0.4811, -0.05, 0.0144, -0.5518, 0.2058, -0.521, 1.0234, 1.0231, 1.0125, 1.0123, 1.0111, 1.0105, 1.0099, 1.0069, 1.0048, 1.0039, 1.0032, 1.0032, 1.0011, 1.0009, 0.9997, 0.9988, 0.9963, 0.9961, 0.9946, 0.9937, 0.9934, 0.9927, 0.9913, 0.9912, 0.9898, 0.9898, 0.9898, 0.9895, 0.9894, 0.9893, 0.9889, 0.8691, 0.9725, 0.6605, 0.6562, 0.7398, 0.686, 0.6728, 0.7315, 0.7258, 0.2266, 0.2272, 0.3547, 0.3754, 0.5935, 0.7532, 0.5878, 0.3114, 0.4209, 0.482, 0.6612, -0.0784, 0.3911, -0.4348, 0.0598, 1.9123, 1.8817, 1.8785, 1.8785, 1.8756, 1.875, 1.8713, 1.8457, 1.8436, 1.8419, 1.8377, 1.836, 1.8324, 1.8311, 1.8301, 1.8292, 1.8222, 1.8215, 1.8186, 1.8158, 1.8144, 1.8107, 1.8062, 1.8039, 1.8001, 1.7974, 1.7959, 1.7884, 1.7877, 1.7792, 1.7787, 1.7507, 1.7567, 1.75, 1.5312, 0.5709, 0.5964, -2.1505, -2.2203, -1.137]}, \"token.table\": {\"Topic\": [1, 2, 3, 3, 1, 1, 2, 3, 2, 3, 3, 1, 3, 3, 1, 1, 1, 2, 1, 2, 1, 2, 1, 2, 3, 3, 3, 1, 3, 1, 1, 3, 1, 3, 2, 1, 3, 2, 1, 1, 3, 2, 2, 3, 1, 2, 3, 2, 3, 1, 2, 1, 2, 1, 2, 1, 2, 2, 1, 1, 2, 3, 1, 2, 3, 1, 1, 2, 1, 2, 1, 2, 3, 1, 2, 1, 2, 2, 3, 1, 2, 3, 2, 1, 3, 2, 1, 1, 1, 2, 1, 1, 3, 2, 3, 1, 2, 1, 2, 3, 2, 2, 2, 2, 2, 2, 3, 3, 3, 2, 3, 1, 3, 2, 3, 1, 2, 1, 2, 1, 2, 3, 1, 2, 2, 1, 1, 2, 2, 3, 1, 2, 2, 1, 1, 1, 2, 1, 2, 1, 2, 1, 2, 1, 3, 2, 2, 1, 2, 1, 3, 1, 2, 3, 2, 1, 2, 1, 1, 2, 1, 1, 2, 1, 3, 1, 2, 1, 1, 1, 2, 3, 1, 3, 3, 1, 3, 2, 1, 2, 3, 2, 2, 2], \"Freq\": [0.4239293736008366, 0.5887907966678286, 0.7544281326491328, 0.818356722572191, 0.9738074070179427, 0.9696431365444694, 0.038785725461778775, 1.005666340520359, 0.9602798714042815, 0.9759253492604935, 0.7376545355371594, 0.2806375421978935, 0.7015938554947337, 0.803934276085634, 0.96344975947664, 0.9841380131637902, 1.0016632046721916, 0.9799087318264865, 0.858438359882229, 0.11445844798429722, 0.9783794841826614, 1.005529785759105, 0.8164553286239035, 0.17749028883128337, 0.8645122040870628, 0.9551987884913659, 0.9414163332168981, 0.9972045141192615, 0.8436376492829972, 0.954838539397923, 0.09921526828711122, 0.892937414584001, 0.9808140373309537, 0.8039171913885238, 0.9950464884297936, 0.9792162978830135, 0.8372799829479777, 0.9786421468597831, 0.9850739104213186, 0.9823781036405991, 0.9151757432295782, 0.9181619497689929, 0.9921600162655002, 0.8212486040672858, 0.9914797945046114, 0.02679675120282734, 0.9948893130082067, 0.9693549735483267, 0.8941071353691482, 0.5168520115457337, 0.48731761088597747, 0.24217771506238728, 0.7668960976975597, 0.6576745784865085, 0.3471060275345461, 0.3076870701909066, 0.6837490448686813, 0.99366862560061, 0.9867030290219052, 0.5363290903815339, 0.4473528357560259, 0.017300938399404317, 0.6518052016520396, 0.3259026008260198, 0.010863420027533993, 0.9919754747416631, 0.46684993276887454, 0.5217734542710951, 0.9740368034687339, 1.003041892466811, 0.2880567757286722, 0.7090628325628855, 0.8290497886080552, 0.7922657762649665, 0.20667802859086082, 0.297561236664235, 0.7033265593881919, 0.9900991408067966, 0.8776792305138571, 0.4487149502060491, 0.5085436102335223, 0.04985721668956101, 0.9496327254869549, 0.23099788017687667, 0.6929936405306301, 0.9398851870907559, 0.9982757059588242, 0.9708844648298269, 0.7684698744279825, 0.22846401672183267, 0.9651031116367786, 0.9731302891925195, 0.9759253492604935, 0.7436911269798762, 0.2517108429778042, 0.9741972505690161, 0.9785804520096507, 0.259935678481022, 0.7426733670886343, 0.6875576457894638, 0.9424457383094031, 0.9235291205162747, 0.9717765115605153, 0.9371902473038811, 0.9812533297582515, 0.9739743061318622, 0.843331772949366, 0.9511971897473709, 0.7259586747409688, 0.970922466139279, 0.8663790824528186, 0.981942417103608, 0.9207485973395768, 0.99752349315413, 0.8627345957079293, 0.9788680448440565, 0.036254372031261355, 0.9443226572382762, 0.049055722453936426, 0.8796715620402451, 0.09774128467113834, 0.019548256934227667, 0.30907340575455483, 0.6898959949878456, 0.9646705747163087, 1.0014297286415563, 0.47217998457058347, 0.5218831408411712, 0.16772739234949208, 0.8386369617474604, 0.9804898817864361, 0.9908744560495218, 0.9215396871805601, 1.0038819600810425, 0.9858104262120987, 0.8867624993071996, 0.11084531241339995, 0.622053785756066, 0.3812587719150082, 0.1456276736805741, 0.855562582873373, 0.7411399940270201, 0.2629851591708781, 0.24728962791406625, 0.7418688837421987, 0.9673114214034482, 0.9967218899642885, 0.30700506791263105, 0.6916861168633976, 0.9244297021602041, 0.06603069301144315, 0.29109633932407625, 0.6351192857979846, 0.05292660714983205, 0.9695262923425342, 0.449031250272227, 0.5466467394618415, 0.9846944231928149, 0.8781152632850475, 0.12111934666000655, 0.9740627661400921, 0.8693927765781897, 0.11098631190359869, 0.7390211828123388, 0.26873497556812315, 0.3557423506173371, 0.6293903126306734, 0.9905044918517274, 0.9700942111488495, 0.26080832746835103, 0.7451666499095744, 0.9940912114775542, 0.9656059865788083, 0.9048963551475628, 0.9779575655888265, 0.983389708593438, 0.9303022763098252, 0.9470734904196924, 0.5358969644028029, 0.44697083057177006, 0.01638112991624288, 0.9754764143885113, 0.9889085761454672, 0.9688994485080392], \"Term\": [\"abu\", \"abu\", \"agustus\", \"akademisi\", \"alat\", \"aman\", \"aman\", \"anel\", \"anggota\", \"baik\", \"bakar\", \"bayar\", \"bayar\", \"bebasin\", \"bebaskan\", \"benci\", \"berkuasa\", \"bersamasama\", \"bikin\", \"bikin\", \"bohong\", \"buka\", \"buzzer\", \"buzzer\", \"buzzernya\", \"comment\", \"cs\", \"dan\", \"database\", \"delik\", \"dilaporin\", \"dilaporin\", \"dilaporkan\", \"diretas\", \"dpr\", \"dr\", \"duit\", \"dukung\", \"era\", \"fitnah\", \"foto\", \"fraksi\", \"gerung\", \"hacker\", \"hapus\", \"hapus\", \"harun\", \"hatihati\", \"hidayat\", \"hukum\", \"hukum\", \"implementasi\", \"implementasi\", \"indonesia\", \"indonesia\", \"informasi\", \"informasi\", \"interpretasi\", \"isu\", \"ite\", \"ite\", \"ite\", \"iya\", \"iya\", \"iya\", \"jaman\", \"janda\", \"janda\", \"jk\", \"joko\", \"jokowi\", \"jokowi\", \"kang\", \"kapolri\", \"kapolri\", \"karet\", \"karet\", \"keadilan\", \"kejaksaan\", \"kena\", \"kena\", \"kena\", \"komen\", \"konflik\", \"konflik\", \"konsisten\", \"korban\", \"kriminalisasi\", \"kritik\", \"kritik\", \"kuhp\", \"lawan\", \"lebih\", \"lindungirezim\", \"lindungirezim\", \"listyo\", \"mahfud\", \"masyarakat\", \"masyarakat\", \"mbah\", \"md\", \"menghapus\", \"meningkatkan\", \"menjadikan\", \"menjamin\", \"menkominfo\", \"miliar\", \"min\", \"mina\", \"multitafsir\", \"musuh\", \"nama\", \"ngopi\", \"no\", \"nur\", \"oposisi\", \"oposisi\", \"orang\", \"orang\", \"pakai\", \"pakai\", \"pakai\", \"pasal\", \"pasal\", \"pedoman\", \"pelapor\", \"pemerintah\", \"pemerintah\", \"penafsiran\", \"penafsiran\", \"pencemaran\", \"penegakan\", \"pengawasan\", \"penghinaan\", \"pergi\", \"polisi\", \"polisi\", \"polri\", \"polri\", \"presiden\", \"presiden\", \"rakyat\", \"rakyat\", \"refly\", \"refly\", \"rencana\", \"resmi\", \"revisi\", \"revisi\", \"rezim\", \"rezim\", \"ri\", \"ri\", \"ri\", \"rocky\", \"salah\", \"salah\", \"sby\", \"sdh\", \"sdh\", \"sehat\", \"selektif\", \"selektif\", \"senjata\", \"senjata\", \"setuju\", \"setuju\", \"sigit\", \"skrg\", \"takut\", \"takut\", \"target\", \"terapkan\", \"tertawa\", \"tiati\", \"ujaran\", \"untung\", \"usulan\", \"uu\", \"uu\", \"uu\", \"wacana\", \"wakil\", \"widodo\"]}, \"R\": 30, \"lambda.step\": 0.01, \"plot.opts\": {\"xlab\": \"PC1\", \"ylab\": \"PC2\"}, \"topic.order\": [1, 3, 2]};\n",
       "\n",
       "function LDAvis_load_lib(url, callback){\n",
       "  var s = document.createElement('script');\n",
       "  s.src = url;\n",
       "  s.async = true;\n",
       "  s.onreadystatechange = s.onload = callback;\n",
       "  s.onerror = function(){console.warn(\"failed to load library \" + url);};\n",
       "  document.getElementsByTagName(\"head\")[0].appendChild(s);\n",
       "}\n",
       "\n",
       "if(typeof(LDAvis) !== \"undefined\"){\n",
       "   // already loaded: just create the visualization\n",
       "   !function(LDAvis){\n",
       "       new LDAvis(\"#\" + \"ldavis_el1516819799351508168658861683\", ldavis_el1516819799351508168658861683_data);\n",
       "   }(LDAvis);\n",
       "}else if(typeof define === \"function\" && define.amd){\n",
       "   // require.js is available: use it to load d3/LDAvis\n",
       "   require.config({paths: {d3: \"https://d3js.org/d3.v5\"}});\n",
       "   require([\"d3\"], function(d3){\n",
       "      window.d3 = d3;\n",
       "      LDAvis_load_lib(\"https://cdn.jsdelivr.net/gh/bmabey/pyLDAvis@3.3.1/pyLDAvis/js/ldavis.v3.0.0.js\", function(){\n",
       "        new LDAvis(\"#\" + \"ldavis_el1516819799351508168658861683\", ldavis_el1516819799351508168658861683_data);\n",
       "      });\n",
       "    });\n",
       "}else{\n",
       "    // require.js not available: dynamically load d3 & LDAvis\n",
       "    LDAvis_load_lib(\"https://d3js.org/d3.v5.js\", function(){\n",
       "         LDAvis_load_lib(\"https://cdn.jsdelivr.net/gh/bmabey/pyLDAvis@3.3.1/pyLDAvis/js/ldavis.v3.0.0.js\", function(){\n",
       "                 new LDAvis(\"#\" + \"ldavis_el1516819799351508168658861683\", ldavis_el1516819799351508168658861683_data);\n",
       "            })\n",
       "         });\n",
       "}\n",
       "</script>"
      ],
      "text/plain": [
       "PreparedData(topic_coordinates=              x         y  topics  cluster       Freq\n",
       "topic                                                \n",
       "0      0.092226  0.066331       1        1  50.237438\n",
       "2      0.017516 -0.105272       2        1  35.717967\n",
       "1     -0.109742  0.038941       3        1  14.044595, topic_info=                Term        Freq       Total Category  logprob  loglift\n",
       "13863         revisi  270.000000  270.000000  Default  30.0000  30.0000\n",
       "4270             dpr   76.000000   76.000000  Default  29.0000  29.0000\n",
       "7005        keadilan   70.000000   70.000000  Default  28.0000  28.0000\n",
       "13328       presiden  109.000000  109.000000  Default  27.0000  27.0000\n",
       "11964          pasal  181.000000  181.000000  Default  26.0000  26.0000\n",
       "...              ...         ...         ...      ...      ...      ...\n",
       "8589   lindungirezim   21.725688   87.401876   Topic3  -5.2669   0.5709\n",
       "14732        senjata    3.795494   14.884553   Topic3  -7.0115   0.5964\n",
       "6136             ite    6.615908  404.602331   Topic3  -6.4559  -2.1505\n",
       "16883             uu    6.516522  427.320950   Topic3  -6.4710  -2.2203\n",
       "7376            kena    4.517994  100.286384   Topic3  -6.8373  -1.1370\n",
       "\n",
       "[181 rows x 6 columns], token_table=       Topic      Freq       Term\n",
       "term                             \n",
       "36         1  0.423929        abu\n",
       "36         2  0.588791        abu\n",
       "169        3  0.754428    agustus\n",
       "241        3  0.818357  akademisi\n",
       "325        1  0.973807       alat\n",
       "...      ...       ...        ...\n",
       "16883      2  0.446971         uu\n",
       "16883      3  0.016381         uu\n",
       "16990      2  0.975476     wacana\n",
       "17037      2  0.988909      wakil\n",
       "17149      2  0.968899     widodo\n",
       "\n",
       "[184 rows x 3 columns], R=30, lambda_step=0.01, plot_opts={'xlab': 'PC1', 'ylab': 'PC2'}, topic_order=[1, 3, 2])"
      ]
     },
     "execution_count": 17,
     "metadata": {},
     "output_type": "execute_result"
    }
   ],
   "source": [
    "import pyLDAvis.sklearn\n",
    "pyLDAvis.enable_notebook()\n",
    "pyLDAvis.sklearn.prepare(lda2, response, vectorizer)"
   ]
  },
  {
   "cell_type": "code",
   "execution_count": null,
   "metadata": {},
   "outputs": [],
   "source": []
  }
 ],
 "metadata": {
  "colab": {
   "collapsed_sections": [],
   "name": "4.lexicon-based_topicModelling.ipynb",
   "provenance": []
  },
  "kernelspec": {
   "display_name": "Python 3 (ipykernel)",
   "language": "python",
   "name": "python3"
  },
  "language_info": {
   "codemirror_mode": {
    "name": "ipython",
    "version": 3
   },
   "file_extension": ".py",
   "mimetype": "text/x-python",
   "name": "python",
   "nbconvert_exporter": "python",
   "pygments_lexer": "ipython3",
   "version": "3.8.11"
  }
 },
 "nbformat": 4,
 "nbformat_minor": 1
}
