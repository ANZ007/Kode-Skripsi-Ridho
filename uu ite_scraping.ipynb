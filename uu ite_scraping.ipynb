{
 "cells": [
  {
   "cell_type": "code",
   "execution_count": 1,
   "id": "2dfcac06",
   "metadata": {},
   "outputs": [],
   "source": [
    "import snscrape.modules.twitter as sntwitter\n",
    "import pandas as pd\n",
    "import csv\n",
    "from tqdm.notebook import tqdm"
   ]
  },
  {
   "cell_type": "code",
   "execution_count": 2,
   "id": "2853d4ef",
   "metadata": {},
   "outputs": [
    {
     "name": "stdout",
     "output_type": "stream",
     "text": [
      "Keyword : uu ite\n",
      "Dari Tanggal : 2021-02-14\n",
      "Sampai Tanggal : 2021-02-20\n",
      "Bahasa (unicode) : id\n"
     ]
    },
    {
     "data": {
      "application/vnd.jupyter.widget-view+json": {
       "model_id": "a6f3e6b9d6934792b2f1158bd38fb81f",
       "version_major": 2,
       "version_minor": 0
      },
      "text/plain": [
       "Proses Scrapping Data:   0%|          | 0/30000 [00:00<?, ?it/s]"
      ]
     },
     "metadata": {},
     "output_type": "display_data"
    }
   ],
   "source": [
    "tweets_temp = []\n",
    "# Creating list to append tweet data\n",
    "search_words = \"uu ite\"\n",
    "#search = search_words + \" -filter:retweets\"\n",
    "date_since = '2021-02-14'\n",
    "date_until = '2021-02-20'\n",
    "lang = 'id'\n",
    "search = search_words + ' since:' + date_since + ' until:' + date_until + ' lang:' + lang\n",
    "tweets_count = 30000\n",
    "\n",
    "print(\"Keyword : \"+search_words)\n",
    "print(\"Dari Tanggal : \"+date_since)\n",
    "print(\"Sampai Tanggal : \"+date_until)\n",
    "print(\"Bahasa (unicode) : \"+lang)\n",
    "\n",
    "# Using TwitterSearchScraper to scrape data and append tweets to list\n",
    "# for i,tweet in enumerate(sntwitter.TwitterSearchScraper(search).get_items()):\n",
    "#     if i>tweets_count: #number of tweets you want to scrape\n",
    "#         break\n",
    "#     tweets_temp.append([tweet.date, tweet.id, tweet.content, tweet.user.username])\n",
    "    \n",
    "for i, tweet in enumerate(tqdm(sntwitter.TwitterSearchScraper(search).get_items(), \n",
    "                               desc=\"Proses Scrapping Data\", total=tweets_count)):\n",
    "    if i>tweets_count:\n",
    "        break\n",
    "    tweets_temp.append([tweet.date, tweet.id, tweet.content, tweet.user.username])\n",
    "    tweet\n",
    "\n",
    "# Creating a dataframe from the tweets list above \n",
    "df_tweets = pd.DataFrame(tweets_temp, columns=['Datetime', 'Tweet Id', 'Tweet', 'Username'])"
   ]
  },
  {
   "cell_type": "code",
   "execution_count": 3,
   "id": "b7cfb109",
   "metadata": {},
   "outputs": [
    {
     "data": {
      "text/html": [
       "<div>\n",
       "<style scoped>\n",
       "    .dataframe tbody tr th:only-of-type {\n",
       "        vertical-align: middle;\n",
       "    }\n",
       "\n",
       "    .dataframe tbody tr th {\n",
       "        vertical-align: top;\n",
       "    }\n",
       "\n",
       "    .dataframe thead th {\n",
       "        text-align: right;\n",
       "    }\n",
       "</style>\n",
       "<table border=\"1\" class=\"dataframe\">\n",
       "  <thead>\n",
       "    <tr style=\"text-align: right;\">\n",
       "      <th></th>\n",
       "      <th>Datetime</th>\n",
       "      <th>Tweet Id</th>\n",
       "      <th>Tweet</th>\n",
       "      <th>Username</th>\n",
       "    </tr>\n",
       "  </thead>\n",
       "  <tbody>\n",
       "    <tr>\n",
       "      <th>0</th>\n",
       "      <td>2021-02-19 23:58:25+00:00</td>\n",
       "      <td>1362914466917011456</td>\n",
       "      <td>Dibeberkan Roy Suryo, Ternyata Ini Sejarah Lah...</td>\n",
       "      <td>idtodayco</td>\n",
       "    </tr>\n",
       "    <tr>\n",
       "      <th>1</th>\n",
       "      <td>2021-02-19 23:55:29+00:00</td>\n",
       "      <td>1362913729155764224</td>\n",
       "      <td>@TsamaraDKI @psi_id Demi menyelamatkan seorang...</td>\n",
       "      <td>toha_laha</td>\n",
       "    </tr>\n",
       "    <tr>\n",
       "      <th>2</th>\n",
       "      <td>2021-02-19 23:54:18+00:00</td>\n",
       "      <td>1362913430143836162</td>\n",
       "      <td>Makassar Terkini: Jokowi Minta Revisi UU ITE, ...</td>\n",
       "      <td>bryanesia</td>\n",
       "    </tr>\n",
       "    <tr>\n",
       "      <th>3</th>\n",
       "      <td>2021-02-19 23:43:48+00:00</td>\n",
       "      <td>1362910790777331719</td>\n",
       "      <td>UU ITE dibuat pada zaman pra sejarah ??? Pada ...</td>\n",
       "      <td>amalpribadi2</td>\n",
       "    </tr>\n",
       "    <tr>\n",
       "      <th>4</th>\n",
       "      <td>2021-02-19 23:40:19+00:00</td>\n",
       "      <td>1362909911743520771</td>\n",
       "      <td>Pada UU ITE pasal-pasal karet yang perlu dicab...</td>\n",
       "      <td>BournAgainShell</td>\n",
       "    </tr>\n",
       "    <tr>\n",
       "      <th>...</th>\n",
       "      <td>...</td>\n",
       "      <td>...</td>\n",
       "      <td>...</td>\n",
       "      <td>...</td>\n",
       "    </tr>\n",
       "    <tr>\n",
       "      <th>11781</th>\n",
       "      <td>2021-02-14 00:08:58+00:00</td>\n",
       "      <td>1360742794487209989</td>\n",
       "      <td>@msaid_didu @Pak_JK @kiangiekwik @m_dinsyamsud...</td>\n",
       "      <td>Toraya_Maelo</td>\n",
       "    </tr>\n",
       "    <tr>\n",
       "      <th>11782</th>\n",
       "      <td>2021-02-14 00:06:15+00:00</td>\n",
       "      <td>1360742111662940162</td>\n",
       "      <td>Kalo di Jepang 4 orang terluka.kalo di Indones...</td>\n",
       "      <td>mugiarso74</td>\n",
       "    </tr>\n",
       "    <tr>\n",
       "      <th>11783</th>\n",
       "      <td>2021-02-14 00:03:22+00:00</td>\n",
       "      <td>1360741387050897410</td>\n",
       "      <td>@adityapradanan Wkwk ntaps lah ditegasin, uran...</td>\n",
       "      <td>jmkaisa97</td>\n",
       "    </tr>\n",
       "    <tr>\n",
       "      <th>11784</th>\n",
       "      <td>2021-02-14 00:01:31+00:00</td>\n",
       "      <td>1360740920472178694</td>\n",
       "      <td>Demokrat: Jika Jokowi Minta Dikritik, UU ITE H...</td>\n",
       "      <td>GafIkhsan</td>\n",
       "    </tr>\n",
       "    <tr>\n",
       "      <th>11785</th>\n",
       "      <td>2021-02-14 00:00:16+00:00</td>\n",
       "      <td>1360740607501639681</td>\n",
       "      <td>Andalan rejim ini adalah UU ITE, BuzzeRP, Cebo...</td>\n",
       "      <td>ZRsaja</td>\n",
       "    </tr>\n",
       "  </tbody>\n",
       "</table>\n",
       "<p>11786 rows × 4 columns</p>\n",
       "</div>"
      ],
      "text/plain": [
       "                       Datetime             Tweet Id  \\\n",
       "0     2021-02-19 23:58:25+00:00  1362914466917011456   \n",
       "1     2021-02-19 23:55:29+00:00  1362913729155764224   \n",
       "2     2021-02-19 23:54:18+00:00  1362913430143836162   \n",
       "3     2021-02-19 23:43:48+00:00  1362910790777331719   \n",
       "4     2021-02-19 23:40:19+00:00  1362909911743520771   \n",
       "...                         ...                  ...   \n",
       "11781 2021-02-14 00:08:58+00:00  1360742794487209989   \n",
       "11782 2021-02-14 00:06:15+00:00  1360742111662940162   \n",
       "11783 2021-02-14 00:03:22+00:00  1360741387050897410   \n",
       "11784 2021-02-14 00:01:31+00:00  1360740920472178694   \n",
       "11785 2021-02-14 00:00:16+00:00  1360740607501639681   \n",
       "\n",
       "                                                   Tweet         Username  \n",
       "0      Dibeberkan Roy Suryo, Ternyata Ini Sejarah Lah...        idtodayco  \n",
       "1      @TsamaraDKI @psi_id Demi menyelamatkan seorang...        toha_laha  \n",
       "2      Makassar Terkini: Jokowi Minta Revisi UU ITE, ...        bryanesia  \n",
       "3      UU ITE dibuat pada zaman pra sejarah ??? Pada ...     amalpribadi2  \n",
       "4      Pada UU ITE pasal-pasal karet yang perlu dicab...  BournAgainShell  \n",
       "...                                                  ...              ...  \n",
       "11781  @msaid_didu @Pak_JK @kiangiekwik @m_dinsyamsud...     Toraya_Maelo  \n",
       "11782  Kalo di Jepang 4 orang terluka.kalo di Indones...       mugiarso74  \n",
       "11783  @adityapradanan Wkwk ntaps lah ditegasin, uran...        jmkaisa97  \n",
       "11784  Demokrat: Jika Jokowi Minta Dikritik, UU ITE H...        GafIkhsan  \n",
       "11785  Andalan rejim ini adalah UU ITE, BuzzeRP, Cebo...           ZRsaja  \n",
       "\n",
       "[11786 rows x 4 columns]"
      ]
     },
     "execution_count": 3,
     "metadata": {},
     "output_type": "execute_result"
    }
   ],
   "source": [
    "df_tweets"
   ]
  },
  {
   "cell_type": "code",
   "execution_count": 4,
   "id": "16ae57df",
   "metadata": {},
   "outputs": [
    {
     "name": "stdout",
     "output_type": "stream",
     "text": [
      "Dataset dibuang (Karena duplikat) : 0 data\n",
      "Dataset masuk : 11786 data\n"
     ]
    }
   ],
   "source": [
    "bruto = int(len(df_tweets))\n",
    "df_tweets.drop_duplicates(subset=['Tweet'])\n",
    "print(\"Dataset dibuang (Karena duplikat) : \"+(str(bruto-int(len(df_tweets))))+\" data\")\n",
    "print(\"Dataset masuk : \"+str(len(df_tweets))+\" data\")\n",
    "df_tweets.to_csv('tweets_uuite_TA.csv',index=False,quoting=csv.QUOTE_ALL)"
   ]
  },
  {
   "cell_type": "code",
   "execution_count": null,
   "id": "b9bbdc99",
   "metadata": {},
   "outputs": [],
   "source": []
  }
 ],
 "metadata": {
  "kernelspec": {
   "display_name": "Python 3 (ipykernel)",
   "language": "python",
   "name": "python3"
  },
  "language_info": {
   "codemirror_mode": {
    "name": "ipython",
    "version": 3
   },
   "file_extension": ".py",
   "mimetype": "text/x-python",
   "name": "python",
   "nbconvert_exporter": "python",
   "pygments_lexer": "ipython3",
   "version": "3.8.11"
  }
 },
 "nbformat": 4,
 "nbformat_minor": 5
}
